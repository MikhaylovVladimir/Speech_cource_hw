{
  "nbformat": 4,
  "nbformat_minor": 0,
  "metadata": {
    "colab": {
      "provenance": []
    },
    "kernelspec": {
      "name": "python3",
      "display_name": "Python 3"
    },
    "language_info": {
      "name": "python"
    }
  },
  "cells": [
    {
      "cell_type": "code",
      "source": [
        "from typing import List, Tuple\n",
        "import kenlm\n",
        "import torch\n",
        "import torchaudio\n",
        "import torch.nn.functional as F\n",
        "from transformers import Wav2Vec2Processor, Wav2Vec2ForCTC\n",
        "import heapq\n",
        "from jiwer import wer\n",
        "import Levenshtein\n",
        "import matplotlib.pyplot as plt\n",
        "import pandas as pd\n",
        "import time\n",
        "import os\n",
        "\n",
        "\n",
        "class Wav2Vec2Decoder:\n",
        "    def __init__(\n",
        "            self,\n",
        "            model_name=\"facebook/wav2vec2-base-960h\",\n",
        "            lm_model_path=\"lm/3-gram.pruned.1e-7.arpa.gz\",\n",
        "            beam_width=3,\n",
        "            alpha=1.0,\n",
        "            beta=1.0\n",
        "        ):\n",
        "        self.processor = Wav2Vec2Processor.from_pretrained(model_name)\n",
        "        self.model = Wav2Vec2ForCTC.from_pretrained(model_name)\n",
        "\n",
        "        self.vocab = {i: c for c, i in self.processor.tokenizer.get_vocab().items()}\n",
        "        self.blank_token_id = self.processor.tokenizer.pad_token_id\n",
        "        self.word_delimiter = self.processor.tokenizer.word_delimiter_token\n",
        "        self.beam_width = beam_width\n",
        "        self.alpha = alpha\n",
        "        self.beta = beta\n",
        "        self.lm_model = kenlm.Model(lm_model_path) if lm_model_path and os.path.exists(lm_model_path) else None\n",
        "\n",
        "    def greedy_decode(self, logits: torch.Tensor) -> str:\n",
        "        pred_ids = torch.argmax(logits, dim=-1).tolist()\n",
        "        prev_token = None\n",
        "        tokens = []\n",
        "        for token_id in pred_ids:\n",
        "            if token_id != prev_token and token_id != self.blank_token_id:\n",
        "                tokens.append(token_id)\n",
        "            prev_token = token_id\n",
        "        return \"\".join(self.vocab[i].replace(\"|\", \" \") for i in tokens)\n",
        "\n",
        "    def beam_search_decode(self, logits: torch.Tensor, return_beams: bool = False):\n",
        "        T, V = logits.size()\n",
        "        log_probs = F.log_softmax(logits, dim=-1)\n",
        "\n",
        "        beams = [([], 0.0)]\n",
        "        for t in range(T):\n",
        "            new_beams = []\n",
        "            for seq, score in beams:\n",
        "                for v in range(V):\n",
        "                    new_seq = seq + [v]\n",
        "                    new_score = score + log_probs[t, v].item()\n",
        "                    new_beams.append((new_seq, new_score))\n",
        "            beams = heapq.nlargest(self.beam_width, new_beams, key=lambda x: x[1])\n",
        "\n",
        "        final_beams = []\n",
        "        for seq, score in beams:\n",
        "            merged = []\n",
        "            prev = None\n",
        "            for token in seq:\n",
        "                if token != prev and token != self.blank_token_id:\n",
        "                    merged.append(token)\n",
        "                prev = token\n",
        "            final_beams.append((merged, score))\n",
        "\n",
        "        if return_beams:\n",
        "            return final_beams\n",
        "        else:\n",
        "            best_seq = max(final_beams, key=lambda x: x[1])[0]\n",
        "            return \"\".join(self.vocab[i].replace(\"|\", \" \") for i in best_seq)\n",
        "\n",
        "    def beam_search_with_lm(self, logits: torch.Tensor) -> str:\n",
        "        if not self.lm_model:\n",
        "            raise ValueError(\"KenLM model required for LM shallow fusion\")\n",
        "\n",
        "        T, V = logits.size()\n",
        "        log_probs = F.log_softmax(logits, dim=-1)\n",
        "\n",
        "        beams = [([], 0.0)]\n",
        "        for t in range(T):\n",
        "            new_beams = []\n",
        "            for seq, score in beams:\n",
        "                for v in range(V):\n",
        "                    token = self.vocab[v].replace(\"|\", \" \")\n",
        "                    new_seq = seq + [v]\n",
        "                    text = \"\".join(self.vocab[i].replace(\"|\", \" \") for i in new_seq).strip()\n",
        "                    lm_score = self.lm_model.score(text)\n",
        "                    combined_score = score + log_probs[t, v].item() + self.alpha * lm_score + self.beta\n",
        "                    new_beams.append((new_seq, combined_score))\n",
        "            beams = heapq.nlargest(self.beam_width, new_beams, key=lambda x: x[1])\n",
        "\n",
        "        best_seq = max(beams, key=lambda x: x[1])[0]\n",
        "        merged = []\n",
        "        prev = None\n",
        "        for token in best_seq:\n",
        "            if token != prev and token != self.blank_token_id:\n",
        "                merged.append(token)\n",
        "            prev = token\n",
        "        return \"\".join(self.vocab[i].replace(\"|\", \" \") for i in merged)\n",
        "\n",
        "    def lm_rescore(self, beams: List[Tuple[List[int], float]]) -> str:\n",
        "        rescored = []\n",
        "        for seq, score in beams:\n",
        "            text = \"\".join(self.vocab[i].replace(\"|\", \" \") for i in seq).strip()\n",
        "            lm_score = self.lm_model.score(text)\n",
        "            total_score = score + self.alpha * lm_score + self.beta * text.count(\" \")\n",
        "            rescored.append((text, total_score))\n",
        "        best_text = max(rescored, key=lambda x: x[1])[0]\n",
        "        return best_text\n",
        "\n",
        "    def decode(self, audio_input: torch.Tensor, method: str = \"greedy\") -> str:\n",
        "        inputs = self.processor(audio_input, return_tensors=\"pt\", sampling_rate=16000)\n",
        "        with torch.no_grad():\n",
        "            logits = self.model(inputs.input_values.squeeze(0)).logits[0]\n",
        "\n",
        "        if method == \"greedy\":\n",
        "            return self.greedy_decode(logits)\n",
        "        elif method == \"beam\":\n",
        "            return self.beam_search_decode(logits)\n",
        "        elif method == \"beam_lm\":\n",
        "            return self.beam_search_with_lm(logits)\n",
        "        elif method == \"beam_lm_rescore\":\n",
        "            beams = self.beam_search_decode(logits, return_beams=True)\n",
        "            return self.lm_rescore(beams)\n",
        "        else:\n",
        "            raise ValueError(\"Invalid decoding method. Choose one of 'greedy', 'beam', 'beam_lm', 'beam_lm_rescore'.\")\n"
      ],
      "metadata": {
        "id": "NDNEjia1fjBU"
      },
      "execution_count": 19,
      "outputs": []
    },
    {
      "cell_type": "code",
      "source": [
        "def test(decoder, audio_path, true_transcription, results_df):\n",
        "    audio_input, sr = torchaudio.load(audio_path)\n",
        "    assert sr == 16000, \"Audio sample rate must be 16kHz\"\n",
        "\n",
        "    for d_strategy in [\"greedy\", \"beam\", \"beam_lm\", \"beam_lm_rescore\"]:\n",
        "        start = time.time()\n",
        "        transcript = decoder.decode(audio_input, method=d_strategy)\n",
        "        elapsed = time.time() - start\n",
        "        lev_dist = Levenshtein.distance(true_transcription, transcript.strip()) / len(true_transcription)\n",
        "        wer_score = wer(true_transcription, transcript.strip())\n",
        "        results_df.append({\n",
        "            \"audio\": audio_path,\n",
        "            \"method\": d_strategy,\n",
        "            \"beam_width\": decoder.beam_width,\n",
        "            \"alpha\": decoder.alpha,\n",
        "            \"beta\": decoder.beta,\n",
        "            \"levenshtein\": lev_dist,\n",
        "            \"wer\": wer_score,\n",
        "            \"time_sec\": elapsed\n",
        "        })\n",
        "\n",
        "if __name__ == \"__main__\":\n",
        "    test_samples = [\n",
        "        (\"examples/sample1.wav\", \"IF YOU ARE GENEROUS HERE IS A FITTING OPPORTUNITY FOR THE EXERCISE OF YOUR MAGNANIMITY IF YOU ARE PROUD HERE AM I YOUR RIVAL READY TO ACKNOWLEDGE MYSELF YOUR DEBTOR FOR AN ACT OF THE MOST NOBLE FORBEARANCE\"),\n",
        "        (\"examples/sample2.wav\", \"AND IF ANY OF THE OTHER COPS HAD PRIVATE RACKETS OF THEIR OWN IZZY WAS UNDOUBTEDLY THE MAN TO FIND IT OUT AND USE THE INFORMATION WITH A BEAT SUCH AS THAT EVEN GOING HALVES AND WITH ALL THE GRAFT TO THE UPPER BRACKETS HE'D STILL BE ABLE TO MAKE HIS PILE IN A MATTER OF MONTHS\"),\n",
        "        (\"examples/sample3.wav\", \"GUESS A MAN GETS USED TO ANYTHING HELL MAYBE I CAN HIRE SOME BUMS TO SIT AROUND AND WHOOP IT UP WHEN THE SHIPS COME IN AND BILL THIS AS A REAL OLD MARTIAN DEN OF SIN\"),\n",
        "        (\"examples/sample4.wav\", \"IT WAS A TUNE THEY HAD ALL HEARD HUNDREDS OF TIMES SO THERE WAS NO DIFFICULTY IN TURNING OUT A PASSABLE IMITATION OF IT TO THE IMPROVISED STRAINS OF I DIDN'T WANT TO DO IT THE PRISONER STRODE FORTH TO FREEDOM\"),\n",
        "        (\"examples/sample5.wav\", \"MARGUERITE TIRED OUT WITH THIS LONG CONFESSION THREW HERSELF BACK ON THE SOFA AND TO STIFLE A SLIGHT COUGH PUT UP HER HANDKERCHIEF TO HER LIPS AND FROM THAT TO HER EYES\"),\n",
        "        (\"examples/sample6.wav\", \"AT THIS TIME ALL PARTICIPANTS ARE IN A LISTEN ONLY MODE\"),\n",
        "        (\"examples/sample7.wav\", \"THE INCREASE WAS MAINLY ATTRIBUTABLE TO THE NET INCREASE IN THE AVERAGE SIZE OF OUR FLEETS\"),\n",
        "        (\"examples/sample8.wav\", \"OPERATING SURPLUS IS A NON CAP FINANCIAL MEASURE WHICH IS DEFINED AS FULLY IN OUR PRESS RELEASE\"),\n",
        "    ]\n",
        "\n",
        "    all_results = []\n",
        "    for beam_width in [5, 10]:\n",
        "        for alpha in [0.5, 1.0]:\n",
        "            for beta in [0.0, 1.0]:\n",
        "                for lm_path in [\"lm/3-gram.pruned.1e-7.arpa.gz\", \"lm/3-gram.arpa.gz\"]:\n",
        "                    if not os.path.exists(lm_path): continue\n",
        "                    print(\"Running with LM:\", lm_path)\n",
        "                    decoder = Wav2Vec2Decoder(\n",
        "                        beam_width=beam_width,\n",
        "                        alpha=alpha,\n",
        "                        beta=beta,\n",
        "                        lm_model_path=lm_path\n",
        "                    )\n",
        "                    for audio_path, target in test_samples:\n",
        "                        test(decoder, audio_path, target, all_results)\n",
        "\n",
        "    df = pd.DataFrame(all_results)\n",
        "    print(df.groupby([\"method\", \"beam_width\", \"alpha\", \"beta\", \"audio\"])[[\"levenshtein\", \"wer\", \"time_sec\"]].mean())\n",
        "    df.groupby([\"method\"])[\"wer\"].mean().plot(kind=\"barh\", title=\"Average WER per decoding method\")\n",
        "    plt.xlabel(\"WER\")\n",
        "    plt.tight_layout()\n",
        "    plt.show()"
      ],
      "metadata": {
        "colab": {
          "base_uri": "https://localhost:8080/",
          "height": 1000
        },
        "id": "FtPkmTSXflTD",
        "outputId": "708cfedf-787f-42c1-90b6-07e1ef2ac10f"
      },
      "execution_count": 20,
      "outputs": [
        {
          "output_type": "stream",
          "name": "stdout",
          "text": [
            "Running with LM: lm/3-gram.pruned.1e-7.arpa.gz\n"
          ]
        },
        {
          "output_type": "stream",
          "name": "stderr",
          "text": [
            "Some weights of Wav2Vec2ForCTC were not initialized from the model checkpoint at facebook/wav2vec2-base-960h and are newly initialized: ['wav2vec2.masked_spec_embed']\n",
            "You should probably TRAIN this model on a down-stream task to be able to use it for predictions and inference.\n"
          ]
        },
        {
          "output_type": "stream",
          "name": "stdout",
          "text": [
            "Running with LM: lm/3-gram.pruned.1e-7.arpa.gz\n"
          ]
        },
        {
          "output_type": "stream",
          "name": "stderr",
          "text": [
            "Some weights of Wav2Vec2ForCTC were not initialized from the model checkpoint at facebook/wav2vec2-base-960h and are newly initialized: ['wav2vec2.masked_spec_embed']\n",
            "You should probably TRAIN this model on a down-stream task to be able to use it for predictions and inference.\n"
          ]
        },
        {
          "output_type": "stream",
          "name": "stdout",
          "text": [
            "Running with LM: lm/3-gram.pruned.1e-7.arpa.gz\n"
          ]
        },
        {
          "output_type": "stream",
          "name": "stderr",
          "text": [
            "Some weights of Wav2Vec2ForCTC were not initialized from the model checkpoint at facebook/wav2vec2-base-960h and are newly initialized: ['wav2vec2.masked_spec_embed']\n",
            "You should probably TRAIN this model on a down-stream task to be able to use it for predictions and inference.\n"
          ]
        },
        {
          "output_type": "stream",
          "name": "stdout",
          "text": [
            "Running with LM: lm/3-gram.pruned.1e-7.arpa.gz\n"
          ]
        },
        {
          "output_type": "stream",
          "name": "stderr",
          "text": [
            "Some weights of Wav2Vec2ForCTC were not initialized from the model checkpoint at facebook/wav2vec2-base-960h and are newly initialized: ['wav2vec2.masked_spec_embed']\n",
            "You should probably TRAIN this model on a down-stream task to be able to use it for predictions and inference.\n"
          ]
        },
        {
          "output_type": "stream",
          "name": "stdout",
          "text": [
            "Running with LM: lm/3-gram.pruned.1e-7.arpa.gz\n"
          ]
        },
        {
          "output_type": "stream",
          "name": "stderr",
          "text": [
            "Some weights of Wav2Vec2ForCTC were not initialized from the model checkpoint at facebook/wav2vec2-base-960h and are newly initialized: ['wav2vec2.masked_spec_embed']\n",
            "You should probably TRAIN this model on a down-stream task to be able to use it for predictions and inference.\n"
          ]
        },
        {
          "output_type": "stream",
          "name": "stdout",
          "text": [
            "Running with LM: lm/3-gram.pruned.1e-7.arpa.gz\n"
          ]
        },
        {
          "output_type": "stream",
          "name": "stderr",
          "text": [
            "Some weights of Wav2Vec2ForCTC were not initialized from the model checkpoint at facebook/wav2vec2-base-960h and are newly initialized: ['wav2vec2.masked_spec_embed']\n",
            "You should probably TRAIN this model on a down-stream task to be able to use it for predictions and inference.\n"
          ]
        },
        {
          "output_type": "stream",
          "name": "stdout",
          "text": [
            "Running with LM: lm/3-gram.pruned.1e-7.arpa.gz\n"
          ]
        },
        {
          "output_type": "stream",
          "name": "stderr",
          "text": [
            "Some weights of Wav2Vec2ForCTC were not initialized from the model checkpoint at facebook/wav2vec2-base-960h and are newly initialized: ['wav2vec2.masked_spec_embed']\n",
            "You should probably TRAIN this model on a down-stream task to be able to use it for predictions and inference.\n"
          ]
        },
        {
          "output_type": "stream",
          "name": "stdout",
          "text": [
            "Running with LM: lm/3-gram.pruned.1e-7.arpa.gz\n"
          ]
        },
        {
          "output_type": "stream",
          "name": "stderr",
          "text": [
            "Some weights of Wav2Vec2ForCTC were not initialized from the model checkpoint at facebook/wav2vec2-base-960h and are newly initialized: ['wav2vec2.masked_spec_embed']\n",
            "You should probably TRAIN this model on a down-stream task to be able to use it for predictions and inference.\n"
          ]
        },
        {
          "output_type": "stream",
          "name": "stdout",
          "text": [
            "                                                   levenshtein       wer  \\\n",
            "method beam_width alpha beta audio                                         \n",
            "beam   5          0.5   0.0  examples/sample1.wav     0.039024  0.078947   \n",
            "                             examples/sample2.wav     0.000000  0.000000   \n",
            "                             examples/sample3.wav     0.006061  0.027027   \n",
            "                             examples/sample4.wav     0.019231  0.073171   \n",
            "                             examples/sample5.wav     0.005952  0.031250   \n",
            "...                                                        ...       ...   \n",
            "greedy 10         1.0   1.0  examples/sample4.wav     0.019231  0.073171   \n",
            "                             examples/sample5.wav     0.005952  0.031250   \n",
            "                             examples/sample6.wav     0.272727  0.636364   \n",
            "                             examples/sample7.wav     0.188889  0.437500   \n",
            "                             examples/sample8.wav     0.147368  0.294118   \n",
            "\n",
            "                                                   time_sec  \n",
            "method beam_width alpha beta audio                           \n",
            "beam   5          0.5   0.0  examples/sample1.wav  6.196610  \n",
            "                             examples/sample2.wav  6.862618  \n",
            "                             examples/sample3.wav  3.535756  \n",
            "                             examples/sample4.wav  4.752685  \n",
            "                             examples/sample5.wav  4.229615  \n",
            "...                                                     ...  \n",
            "greedy 10         1.0   1.0  examples/sample4.wav  5.078525  \n",
            "                             examples/sample5.wav  3.499071  \n",
            "                             examples/sample6.wav  0.987994  \n",
            "                             examples/sample7.wav  1.006031  \n",
            "                             examples/sample8.wav  1.636837  \n",
            "\n",
            "[256 rows x 3 columns]\n"
          ]
        },
        {
          "output_type": "display_data",
          "data": {
            "text/plain": [
              "<Figure size 640x480 with 1 Axes>"
            ],
            "image/png": "[encoded data removed]"
          },
          "metadata": {}
        }
      ]
    }
  ]
}